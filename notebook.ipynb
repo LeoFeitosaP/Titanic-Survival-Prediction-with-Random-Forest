{
 "cells": [
  {
   "cell_type": "code",
   "execution_count": null,
   "id": "fea6cfde",
   "metadata": {},
   "outputs": [],
   "source": [
    "#importi libraries\n",
    "import pandas as pd\n",
    "from IPython.core.display_functions import display\n",
    "from sklearn.preprocessing import LabelEncoder\n",
    "from sklearn.model_selection import train_test_split\n",
    "from sklearn.ensemble import RandomForestClassifier\n",
    "import numpy as np"
   ]
  },
  {
   "cell_type": "code",
   "execution_count": null,
   "id": "7e01e02d",
   "metadata": {},
   "outputs": [],
   "source": [
    "#Load and Preprocess Data\n",
    "Data = pd.read_csv(\"titanic.csv\")\n",
    "Survived = pd.read_csv(\"Survive.csv\")\n",
    "\n",
    "Sex = LabelEncoder()\n",
    "Data[\"Sex\"] = Sex.fit_transform(Data[\"Sex\"])\n",
    "\n",
    "y = Data[\"Survived\"]\n",
    "x = Data.drop(columns=[\"Name\", \"Fare\", \"Survived\"])"
   ]
  },
  {
   "cell_type": "code",
   "execution_count": null,
   "id": "12d122c1",
   "metadata": {},
   "outputs": [],
   "source": [
    "#train-test split\n",
    "x_training, x_test, y_training, y_test = train_test_split(x, y, test_size=0.3)"
   ]
  },
  {
   "cell_type": "code",
   "execution_count": null,
   "id": "85062d8b",
   "metadata": {},
   "outputs": [],
   "source": [
    "#train the model\n",
    "Tree = RandomForestClassifier(random_state=42)\n",
    "\n",
    "Tree.fit(x_training, y_training)"
   ]
  },
  {
   "cell_type": "code",
   "execution_count": null,
   "id": "9a78f9e6",
   "metadata": {},
   "outputs": [],
   "source": [
    "#Predict Survival for New Passengers\n",
    "Survived = Survived.drop(columns = [\"Name\", \"Fare\"])\n",
    "Survived[\"Sex\"] = Sex.fit_transform(Survived[\"Sex\"])\n",
    "\n",
    "Decision = Tree.predict(Survived)\n",
    "\n",
    "Decision_convert = np.where(Decision == 1, \"Survived\", \"Died\")\n",
    "\n",
    "display(Decision_convert)"
   ]
  }
 ],
 "metadata": {
  "kernelspec": {
   "display_name": "Python 3",
   "language": "python",
   "name": "python3"
  },
  "language_info": {
   "name": "python",
   "version": "3.12.10"
  }
 },
 "nbformat": 4,
 "nbformat_minor": 5
}
